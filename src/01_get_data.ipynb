{
 "cells": [
  {
   "cell_type": "code",
   "execution_count": 1,
   "metadata": {},
   "outputs": [
    {
     "name": "stdout",
     "output_type": "stream",
     "text": [
      "Datos guardados en c:\\Projects\\lulo_bank_test\\json\\series_enero_2024.json\n"
     ]
    }
   ],
   "source": [
    "import requests\n",
    "import json\n",
    "import os\n",
    "\n",
    "# Ruta base del proyecto (puedes ajustarla si es necesario)\n",
    "project_base_path = os.path.abspath(os.path.join(os.getcwd(), '..'))  # Asumiendo que 'src' está en la raíz del proyecto\n",
    "\n",
    "# Crear la carpeta json fuera de src si no existe\n",
    "json_folder = os.path.join(project_base_path, 'json')\n",
    "if not os.path.exists(json_folder):\n",
    "    os.makedirs(json_folder)\n",
    "\n",
    "# URL del API\n",
    "url = \"http://api.tvmaze.com/schedule/web?date=2024-01-01\"\n",
    "\n",
    "# Hacer la solicitud GET a la API\n",
    "response = requests.get(url)\n",
    "\n",
    "# Verificar que la solicitud fue exitosa (código de estado 200)\n",
    "if response.status_code == 200:\n",
    "    # Obtener los datos JSON de la respuesta\n",
    "    data = response.json()\n",
    "\n",
    "    # Ruta para guardar los datos (usando la ruta absoluta fuera de 'src')\n",
    "    output_path = os.path.join(json_folder, 'series_enero_2024.json')\n",
    "\n",
    "    # Guardar los datos en un archivo JSON dentro de la carpeta json/\n",
    "    with open(output_path, 'w') as json_file:\n",
    "        json.dump(data, json_file, indent=4)\n",
    "\n",
    "    print(f\"Datos guardados en {output_path}\")\n",
    "else:\n",
    "    print(f\"Error al obtener datos del API. Código de estado: {response.status_code}\")\n"
   ]
  }
 ],
 "metadata": {
  "kernelspec": {
   "display_name": "base",
   "language": "python",
   "name": "python3"
  },
  "language_info": {
   "codemirror_mode": {
    "name": "ipython",
    "version": 3
   },
   "file_extension": ".py",
   "mimetype": "text/x-python",
   "name": "python",
   "nbconvert_exporter": "python",
   "pygments_lexer": "ipython3",
   "version": "3.10.9"
  }
 },
 "nbformat": 4,
 "nbformat_minor": 2
}
