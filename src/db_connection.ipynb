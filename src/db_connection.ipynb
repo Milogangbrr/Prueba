{
 "cells": [
  {
   "cell_type": "markdown",
   "metadata": {},
   "source": [
    "Conección a la base\n"
   ]
  },
  {
   "cell_type": "code",
   "execution_count": 4,
   "metadata": {},
   "outputs": [
    {
     "name": "stdout",
     "output_type": "stream",
     "text": [
      "Requirement already satisfied: psycopg2 in c:\\users\\user\\miniconda3\\lib\\site-packages (2.9.10)Note: you may need to restart the kernel to use updated packages.\n"
     ]
    },
    {
     "name": "stderr",
     "output_type": "stream",
     "text": [
      "\n",
      "[notice] A new release of pip is available: 24.2 -> 24.3.1\n",
      "[notice] To update, run: python.exe -m pip install --upgrade pip\n"
     ]
    },
    {
     "name": "stdout",
     "output_type": "stream",
     "text": [
      "\n"
     ]
    }
   ],
   "source": [
    "pip install psycopg2"
   ]
  },
  {
   "cell_type": "code",
   "execution_count": 2,
   "metadata": {},
   "outputs": [
    {
     "name": "stdout",
     "output_type": "stream",
     "text": [
      "Conectando a la base de datos en localhost...\n",
      "Las variables de entorno se cargaron correctamente.\n",
      "Conexión exitosa a la base de datos\n"
     ]
    }
   ],
   "source": [
    "import psycopg2\n",
    "from dotenv import load_dotenv\n",
    "import os\n",
    "\n",
    "# Cargar las variables de entorno desde el archivo .env\n",
    "load_dotenv()\n",
    "\n",
    "# Obtener las credenciales desde las variables de entorno\n",
    "host = os.getenv(\"DB_HOST\")\n",
    "dbname = os.getenv(\"DB_NAME\")\n",
    "user = os.getenv(\"DB_USER\")\n",
    "password = os.getenv(\"DB_PASSWORD\")\n",
    "\n",
    "# Imprimir las credenciales para verificar que se cargaron correctamente\n",
    "print(f\"Conectando a la base de datos en {host}...\")  # Imprimir el host para verificar\n",
    "\n",
    "# Verificar si las variables se cargaron correctamente\n",
    "if not all([host, dbname, user, password]):\n",
    "    print(\"Error: No se cargaron todas las variables de entorno.\")\n",
    "else:\n",
    "    print(\"Las variables de entorno se cargaron correctamente.\")\n",
    "\n",
    "try:\n",
    "    # Establecer conexión\n",
    "    conn = psycopg2.connect(\n",
    "        host=host,\n",
    "        dbname=dbname,\n",
    "        user=user,\n",
    "        password=password\n",
    "    )\n",
    "\n",
    "    print(\"Conexión exitosa a la base de datos\")\n",
    "\n",
    "    # Crear un cursor para ejecutar consultas\n",
    "    cur = conn.cursor()\n",
    "\n",
    "    # Puedes ejecutar consultas con el cursor\n",
    "    # cur.execute(\"SELECT * FROM tu_tabla\")\n",
    "\n",
    "except Exception as e:\n",
    "    print(f\"Error al conectar a la base de datos: {e}\")\n",
    "finally:\n",
    "    if 'conn' in locals() and conn:  # Verificar si la conexión fue exitosa\n",
    "        cur.close()  # Cierra el cursor\n",
    "        conn.close()  # Cierra la conexión\n"
   ]
  }
 ],
 "metadata": {
  "kernelspec": {
   "display_name": "base",
   "language": "python",
   "name": "python3"
  },
  "language_info": {
   "codemirror_mode": {
    "name": "ipython",
    "version": 3
   },
   "file_extension": ".py",
   "mimetype": "text/x-python",
   "name": "python",
   "nbconvert_exporter": "python",
   "pygments_lexer": "ipython3",
   "version": "3.10.9"
  }
 },
 "nbformat": 4,
 "nbformat_minor": 2
}
