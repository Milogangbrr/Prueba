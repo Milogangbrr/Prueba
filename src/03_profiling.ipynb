{
 "cells": [
  {
   "cell_type": "code",
   "execution_count": 5,
   "metadata": {},
   "outputs": [
    {
     "name": "stdout",
     "output_type": "stream",
     "text": [
      "Análisis guardado en los siguientes formatos:\n",
      "- Texto: c:\\Projects\\lulo_bank_test\\src\\..\\profiling\\analisis_perfil_series_enero_2024.txt\n",
      "- CSV: c:\\Projects\\lulo_bank_test\\src\\..\\profiling\\estadisticas_descriptivas.csv\n",
      "- JSON: c:\\Projects\\lulo_bank_test\\src\\..\\profiling\\analisis_perfil_series_enero_2024.json\n",
      "- Excel: c:\\Projects\\lulo_bank_test\\src\\..\\profiling\\analisis_perfil_series_enero_2024.xlsx\n",
      "- HTML: c:\\Projects\\lulo_bank_test\\src\\..\\profiling\\analisis_perfil_series_enero_2024.html\n"
     ]
    }
   ],
   "source": [
    "import pandas as pd\n",
    "import json\n",
    "import os\n",
    "\n",
    "# Ruta para el archivo JSON (modificar si es necesario)\n",
    "json_folder = os.path.join(os.getcwd(), '..', 'json')\n",
    "json_file_path = os.path.join(json_folder, 'series_enero_2024.json')\n",
    "\n",
    "# Leer el archivo JSON\n",
    "with open(json_file_path, 'r') as file:\n",
    "    data = json.load(file)\n",
    "\n",
    "# Convertir los datos JSON a un DataFrame\n",
    "df = pd.json_normalize(data)\n",
    "\n",
    "# Crear carpeta para guardar los resultados del análisis\n",
    "profiling_folder = os.path.join(os.getcwd(), '..', 'profiling')\n",
    "os.makedirs(profiling_folder, exist_ok=True)\n",
    "\n",
    "# 1. Guardar el análisis en un archivo de texto\n",
    "analysis_file_path = os.path.join(profiling_folder, 'analisis_perfil_series_enero_2024.txt')\n",
    "with open(analysis_file_path, 'w') as analysis_file:\n",
    "    analysis_file.write(\"Análisis del Perfil de las Series de Enero 2024\\n\")\n",
    "    analysis_file.write(\"--------------------------------------------------\\n\")\n",
    "    analysis_file.write(f\"Resumen de estadísticas:\\n{df.describe()}\\n\")  # Agregar estadísticas descriptivas\n",
    "\n",
    "    # Filtrar solo las columnas numéricas para la correlación\n",
    "    numeric_df = df.select_dtypes(include=['number'])\n",
    "    \n",
    "    analysis_file.write(f\"Correlación entre columnas numéricas:\\n{numeric_df.corr()}\\n\")  # Agregar matriz de correlación\n",
    "    analysis_file.write(\"Distribución de valores nulos:\\n\")\n",
    "    analysis_file.write(f\"{df.isnull().sum()}\\n\")  # Resumen de valores nulos\n",
    "\n",
    "# 2. Guardar estadísticas descriptivas en un archivo CSV\n",
    "desc_stats = df.describe().transpose()  # Estadísticas descriptivas\n",
    "desc_stats.to_csv(os.path.join(profiling_folder, 'estadisticas_descriptivas.csv'))\n",
    "\n",
    "# 3. Guardar análisis en un archivo JSON\n",
    "analysis_dict = {\n",
    "    'estadisticas_descriptivas': df.describe().to_dict(),\n",
    "    'matriz_correlacion': numeric_df.corr().to_dict(),\n",
    "    'valores_nulos': df.isnull().sum().to_dict()\n",
    "}\n",
    "\n",
    "json_analysis_path = os.path.join(profiling_folder, 'analisis_perfil_series_enero_2024.json')\n",
    "with open(json_analysis_path, 'w') as json_file:\n",
    "    json.dump(analysis_dict, json_file, indent=4)\n",
    "\n",
    "# 4. Guardar análisis en un archivo Excel\n",
    "with pd.ExcelWriter(os.path.join(profiling_folder, 'analisis_perfil_series_enero_2024.xlsx')) as writer:\n",
    "    df.describe().transpose().to_excel(writer, sheet_name='Estadísticas Descriptivas')\n",
    "    numeric_df.corr().to_excel(writer, sheet_name='Matriz de Correlación')\n",
    "    df.isnull().sum().to_frame('Valores Nulos').to_excel(writer, sheet_name='Valores Nulos')\n",
    "\n",
    "# 5. Guardar análisis como un archivo HTML\n",
    "html_report = df.describe().to_html()  # Convertir estadísticas descriptivas a HTML\n",
    "html_report += numeric_df.corr().to_html()  # Agregar la matriz de correlación al reporte\n",
    "\n",
    "with open(os.path.join(profiling_folder, 'analisis_perfil_series_enero_2024.html'), 'w') as html_file:\n",
    "    html_file.write(html_report)\n",
    "\n",
    "print(\"Análisis guardado en los siguientes formatos:\")\n",
    "print(f\"- Texto: {analysis_file_path}\")\n",
    "print(f\"- CSV: {os.path.join(profiling_folder, 'estadisticas_descriptivas.csv')}\")\n",
    "print(f\"- JSON: {json_analysis_path}\")\n",
    "print(f\"- Excel: {os.path.join(profiling_folder, 'analisis_perfil_series_enero_2024.xlsx')}\")\n",
    "print(f\"- HTML: {os.path.join(profiling_folder, 'analisis_perfil_series_enero_2024.html')}\")\n"
   ]
  }
 ],
 "metadata": {
  "kernelspec": {
   "display_name": "base",
   "language": "python",
   "name": "python3"
  },
  "language_info": {
   "codemirror_mode": {
    "name": "ipython",
    "version": 3
   },
   "file_extension": ".py",
   "mimetype": "text/x-python",
   "name": "python",
   "nbconvert_exporter": "python",
   "pygments_lexer": "ipython3",
   "version": "3.10.9"
  }
 },
 "nbformat": 4,
 "nbformat_minor": 2
}
